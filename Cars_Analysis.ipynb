{
  "nbformat": 4,
  "nbformat_minor": 0,
  "metadata": {
    "colab": {
      "name": "Cars Analysis.ipynb",
      "provenance": [],
      "authorship_tag": "ABX9TyPP36q5tW3KkN7/SXCxTMkP",
      "include_colab_link": true
    },
    "kernelspec": {
      "name": "python3",
      "display_name": "Python 3"
    },
    "language_info": {
      "name": "python"
    }
  },
  "cells": [
    {
      "cell_type": "markdown",
      "metadata": {
        "id": "view-in-github",
        "colab_type": "text"
      },
      "source": [
        "<a href=\"https://colab.research.google.com/github/Fordalo/Data_SCIENCE_WORK/blob/main/Cars_Analysis.ipynb\" target=\"_parent\"><img src=\"https://colab.research.google.com/assets/colab-badge.svg\" alt=\"Open In Colab\"/></a>"
      ]
    },
    {
      "cell_type": "markdown",
      "source": [
        "# Using Cars Dataset to do an ANOVA analysis\n",
        "\n",
        "First we want to load the the R cars dataset using stats models. Then we will take a look at the dataset to do a quick analysis to determine next steps"
      ],
      "metadata": {
        "id": "MLdqwRv9R6K_"
      }
    },
    {
      "cell_type": "code",
      "execution_count": 1,
      "metadata": {
        "colab": {
          "base_uri": "https://localhost:8080/",
          "height": 696
        },
        "id": "AGJ4Es_-Kclc",
        "outputId": "7547d308-11e0-49d7-c79f-63e9bb9c3acb"
      },
      "outputs": [
        {
          "output_type": "stream",
          "name": "stderr",
          "text": [
            "/usr/local/lib/python3.7/dist-packages/statsmodels/tools/_testing.py:19: FutureWarning: pandas.util.testing is deprecated. Use the functions in the public API at pandas.testing instead.\n",
            "  import pandas.util.testing as tm\n"
          ]
        },
        {
          "output_type": "execute_result",
          "data": {
            "text/plain": [
              "   Manufacturer    Model     Type  Min.Price  Price  Max.Price  MPG.city  \\\n",
              "0         Acura  Integra    Small       12.9   15.9       18.8        25   \n",
              "1         Acura   Legend  Midsize       29.2   33.9       38.7        18   \n",
              "2          Audi       90  Compact       25.9   29.1       32.3        20   \n",
              "3          Audi      100  Midsize       30.8   37.7       44.6        19   \n",
              "4           BMW     535i  Midsize       23.7   30.0       36.2        22   \n",
              "..          ...      ...      ...        ...    ...        ...       ...   \n",
              "88   Volkswagen  Eurovan      Van       16.6   19.7       22.7        17   \n",
              "89   Volkswagen   Passat  Compact       17.6   20.0       22.4        21   \n",
              "90   Volkswagen  Corrado   Sporty       22.9   23.3       23.7        18   \n",
              "91        Volvo      240  Compact       21.8   22.7       23.5        21   \n",
              "92        Volvo      850  Midsize       24.8   26.7       28.5        20   \n",
              "\n",
              "    MPG.highway             AirBags DriveTrain  ... Passengers  Length  \\\n",
              "0            31                None      Front  ...          5     177   \n",
              "1            25  Driver & Passenger      Front  ...          5     195   \n",
              "2            26         Driver only      Front  ...          5     180   \n",
              "3            26  Driver & Passenger      Front  ...          6     193   \n",
              "4            30         Driver only       Rear  ...          4     186   \n",
              "..          ...                 ...        ...  ...        ...     ...   \n",
              "88           21                None      Front  ...          7     187   \n",
              "89           30                None      Front  ...          5     180   \n",
              "90           25                None      Front  ...          4     159   \n",
              "91           28         Driver only       Rear  ...          5     190   \n",
              "92           28  Driver & Passenger      Front  ...          5     184   \n",
              "\n",
              "    Wheelbase  Width  Turn.circle Rear.seat.room  Luggage.room  Weight  \\\n",
              "0         102     68           37           26.5          11.0    2705   \n",
              "1         115     71           38           30.0          15.0    3560   \n",
              "2         102     67           37           28.0          14.0    3375   \n",
              "3         106     70           37           31.0          17.0    3405   \n",
              "4         109     69           39           27.0          13.0    3640   \n",
              "..        ...    ...          ...            ...           ...     ...   \n",
              "88        115     72           38           34.0           NaN    3960   \n",
              "89        103     67           35           31.5          14.0    2985   \n",
              "90         97     66           36           26.0          15.0    2810   \n",
              "91        104     67           37           29.5          14.0    2985   \n",
              "92        105     69           38           30.0          15.0    3245   \n",
              "\n",
              "     Origin                Make  \n",
              "0   non-USA       Acura Integra  \n",
              "1   non-USA        Acura Legend  \n",
              "2   non-USA             Audi 90  \n",
              "3   non-USA            Audi 100  \n",
              "4   non-USA            BMW 535i  \n",
              "..      ...                 ...  \n",
              "88  non-USA  Volkswagen Eurovan  \n",
              "89  non-USA   Volkswagen Passat  \n",
              "90  non-USA  Volkswagen Corrado  \n",
              "91  non-USA           Volvo 240  \n",
              "92  non-USA           Volvo 850  \n",
              "\n",
              "[93 rows x 27 columns]"
            ],
            "text/html": [
              "\n",
              "  <div id=\"df-e5e881db-54ae-4725-a9d5-d440f765c050\">\n",
              "    <div class=\"colab-df-container\">\n",
              "      <div>\n",
              "<style scoped>\n",
              "    .dataframe tbody tr th:only-of-type {\n",
              "        vertical-align: middle;\n",
              "    }\n",
              "\n",
              "    .dataframe tbody tr th {\n",
              "        vertical-align: top;\n",
              "    }\n",
              "\n",
              "    .dataframe thead th {\n",
              "        text-align: right;\n",
              "    }\n",
              "</style>\n",
              "<table border=\"1\" class=\"dataframe\">\n",
              "  <thead>\n",
              "    <tr style=\"text-align: right;\">\n",
              "      <th></th>\n",
              "      <th>Manufacturer</th>\n",
              "      <th>Model</th>\n",
              "      <th>Type</th>\n",
              "      <th>Min.Price</th>\n",
              "      <th>Price</th>\n",
              "      <th>Max.Price</th>\n",
              "      <th>MPG.city</th>\n",
              "      <th>MPG.highway</th>\n",
              "      <th>AirBags</th>\n",
              "      <th>DriveTrain</th>\n",
              "      <th>...</th>\n",
              "      <th>Passengers</th>\n",
              "      <th>Length</th>\n",
              "      <th>Wheelbase</th>\n",
              "      <th>Width</th>\n",
              "      <th>Turn.circle</th>\n",
              "      <th>Rear.seat.room</th>\n",
              "      <th>Luggage.room</th>\n",
              "      <th>Weight</th>\n",
              "      <th>Origin</th>\n",
              "      <th>Make</th>\n",
              "    </tr>\n",
              "  </thead>\n",
              "  <tbody>\n",
              "    <tr>\n",
              "      <th>0</th>\n",
              "      <td>Acura</td>\n",
              "      <td>Integra</td>\n",
              "      <td>Small</td>\n",
              "      <td>12.9</td>\n",
              "      <td>15.9</td>\n",
              "      <td>18.8</td>\n",
              "      <td>25</td>\n",
              "      <td>31</td>\n",
              "      <td>None</td>\n",
              "      <td>Front</td>\n",
              "      <td>...</td>\n",
              "      <td>5</td>\n",
              "      <td>177</td>\n",
              "      <td>102</td>\n",
              "      <td>68</td>\n",
              "      <td>37</td>\n",
              "      <td>26.5</td>\n",
              "      <td>11.0</td>\n",
              "      <td>2705</td>\n",
              "      <td>non-USA</td>\n",
              "      <td>Acura Integra</td>\n",
              "    </tr>\n",
              "    <tr>\n",
              "      <th>1</th>\n",
              "      <td>Acura</td>\n",
              "      <td>Legend</td>\n",
              "      <td>Midsize</td>\n",
              "      <td>29.2</td>\n",
              "      <td>33.9</td>\n",
              "      <td>38.7</td>\n",
              "      <td>18</td>\n",
              "      <td>25</td>\n",
              "      <td>Driver &amp; Passenger</td>\n",
              "      <td>Front</td>\n",
              "      <td>...</td>\n",
              "      <td>5</td>\n",
              "      <td>195</td>\n",
              "      <td>115</td>\n",
              "      <td>71</td>\n",
              "      <td>38</td>\n",
              "      <td>30.0</td>\n",
              "      <td>15.0</td>\n",
              "      <td>3560</td>\n",
              "      <td>non-USA</td>\n",
              "      <td>Acura Legend</td>\n",
              "    </tr>\n",
              "    <tr>\n",
              "      <th>2</th>\n",
              "      <td>Audi</td>\n",
              "      <td>90</td>\n",
              "      <td>Compact</td>\n",
              "      <td>25.9</td>\n",
              "      <td>29.1</td>\n",
              "      <td>32.3</td>\n",
              "      <td>20</td>\n",
              "      <td>26</td>\n",
              "      <td>Driver only</td>\n",
              "      <td>Front</td>\n",
              "      <td>...</td>\n",
              "      <td>5</td>\n",
              "      <td>180</td>\n",
              "      <td>102</td>\n",
              "      <td>67</td>\n",
              "      <td>37</td>\n",
              "      <td>28.0</td>\n",
              "      <td>14.0</td>\n",
              "      <td>3375</td>\n",
              "      <td>non-USA</td>\n",
              "      <td>Audi 90</td>\n",
              "    </tr>\n",
              "    <tr>\n",
              "      <th>3</th>\n",
              "      <td>Audi</td>\n",
              "      <td>100</td>\n",
              "      <td>Midsize</td>\n",
              "      <td>30.8</td>\n",
              "      <td>37.7</td>\n",
              "      <td>44.6</td>\n",
              "      <td>19</td>\n",
              "      <td>26</td>\n",
              "      <td>Driver &amp; Passenger</td>\n",
              "      <td>Front</td>\n",
              "      <td>...</td>\n",
              "      <td>6</td>\n",
              "      <td>193</td>\n",
              "      <td>106</td>\n",
              "      <td>70</td>\n",
              "      <td>37</td>\n",
              "      <td>31.0</td>\n",
              "      <td>17.0</td>\n",
              "      <td>3405</td>\n",
              "      <td>non-USA</td>\n",
              "      <td>Audi 100</td>\n",
              "    </tr>\n",
              "    <tr>\n",
              "      <th>4</th>\n",
              "      <td>BMW</td>\n",
              "      <td>535i</td>\n",
              "      <td>Midsize</td>\n",
              "      <td>23.7</td>\n",
              "      <td>30.0</td>\n",
              "      <td>36.2</td>\n",
              "      <td>22</td>\n",
              "      <td>30</td>\n",
              "      <td>Driver only</td>\n",
              "      <td>Rear</td>\n",
              "      <td>...</td>\n",
              "      <td>4</td>\n",
              "      <td>186</td>\n",
              "      <td>109</td>\n",
              "      <td>69</td>\n",
              "      <td>39</td>\n",
              "      <td>27.0</td>\n",
              "      <td>13.0</td>\n",
              "      <td>3640</td>\n",
              "      <td>non-USA</td>\n",
              "      <td>BMW 535i</td>\n",
              "    </tr>\n",
              "    <tr>\n",
              "      <th>...</th>\n",
              "      <td>...</td>\n",
              "      <td>...</td>\n",
              "      <td>...</td>\n",
              "      <td>...</td>\n",
              "      <td>...</td>\n",
              "      <td>...</td>\n",
              "      <td>...</td>\n",
              "      <td>...</td>\n",
              "      <td>...</td>\n",
              "      <td>...</td>\n",
              "      <td>...</td>\n",
              "      <td>...</td>\n",
              "      <td>...</td>\n",
              "      <td>...</td>\n",
              "      <td>...</td>\n",
              "      <td>...</td>\n",
              "      <td>...</td>\n",
              "      <td>...</td>\n",
              "      <td>...</td>\n",
              "      <td>...</td>\n",
              "      <td>...</td>\n",
              "    </tr>\n",
              "    <tr>\n",
              "      <th>88</th>\n",
              "      <td>Volkswagen</td>\n",
              "      <td>Eurovan</td>\n",
              "      <td>Van</td>\n",
              "      <td>16.6</td>\n",
              "      <td>19.7</td>\n",
              "      <td>22.7</td>\n",
              "      <td>17</td>\n",
              "      <td>21</td>\n",
              "      <td>None</td>\n",
              "      <td>Front</td>\n",
              "      <td>...</td>\n",
              "      <td>7</td>\n",
              "      <td>187</td>\n",
              "      <td>115</td>\n",
              "      <td>72</td>\n",
              "      <td>38</td>\n",
              "      <td>34.0</td>\n",
              "      <td>NaN</td>\n",
              "      <td>3960</td>\n",
              "      <td>non-USA</td>\n",
              "      <td>Volkswagen Eurovan</td>\n",
              "    </tr>\n",
              "    <tr>\n",
              "      <th>89</th>\n",
              "      <td>Volkswagen</td>\n",
              "      <td>Passat</td>\n",
              "      <td>Compact</td>\n",
              "      <td>17.6</td>\n",
              "      <td>20.0</td>\n",
              "      <td>22.4</td>\n",
              "      <td>21</td>\n",
              "      <td>30</td>\n",
              "      <td>None</td>\n",
              "      <td>Front</td>\n",
              "      <td>...</td>\n",
              "      <td>5</td>\n",
              "      <td>180</td>\n",
              "      <td>103</td>\n",
              "      <td>67</td>\n",
              "      <td>35</td>\n",
              "      <td>31.5</td>\n",
              "      <td>14.0</td>\n",
              "      <td>2985</td>\n",
              "      <td>non-USA</td>\n",
              "      <td>Volkswagen Passat</td>\n",
              "    </tr>\n",
              "    <tr>\n",
              "      <th>90</th>\n",
              "      <td>Volkswagen</td>\n",
              "      <td>Corrado</td>\n",
              "      <td>Sporty</td>\n",
              "      <td>22.9</td>\n",
              "      <td>23.3</td>\n",
              "      <td>23.7</td>\n",
              "      <td>18</td>\n",
              "      <td>25</td>\n",
              "      <td>None</td>\n",
              "      <td>Front</td>\n",
              "      <td>...</td>\n",
              "      <td>4</td>\n",
              "      <td>159</td>\n",
              "      <td>97</td>\n",
              "      <td>66</td>\n",
              "      <td>36</td>\n",
              "      <td>26.0</td>\n",
              "      <td>15.0</td>\n",
              "      <td>2810</td>\n",
              "      <td>non-USA</td>\n",
              "      <td>Volkswagen Corrado</td>\n",
              "    </tr>\n",
              "    <tr>\n",
              "      <th>91</th>\n",
              "      <td>Volvo</td>\n",
              "      <td>240</td>\n",
              "      <td>Compact</td>\n",
              "      <td>21.8</td>\n",
              "      <td>22.7</td>\n",
              "      <td>23.5</td>\n",
              "      <td>21</td>\n",
              "      <td>28</td>\n",
              "      <td>Driver only</td>\n",
              "      <td>Rear</td>\n",
              "      <td>...</td>\n",
              "      <td>5</td>\n",
              "      <td>190</td>\n",
              "      <td>104</td>\n",
              "      <td>67</td>\n",
              "      <td>37</td>\n",
              "      <td>29.5</td>\n",
              "      <td>14.0</td>\n",
              "      <td>2985</td>\n",
              "      <td>non-USA</td>\n",
              "      <td>Volvo 240</td>\n",
              "    </tr>\n",
              "    <tr>\n",
              "      <th>92</th>\n",
              "      <td>Volvo</td>\n",
              "      <td>850</td>\n",
              "      <td>Midsize</td>\n",
              "      <td>24.8</td>\n",
              "      <td>26.7</td>\n",
              "      <td>28.5</td>\n",
              "      <td>20</td>\n",
              "      <td>28</td>\n",
              "      <td>Driver &amp; Passenger</td>\n",
              "      <td>Front</td>\n",
              "      <td>...</td>\n",
              "      <td>5</td>\n",
              "      <td>184</td>\n",
              "      <td>105</td>\n",
              "      <td>69</td>\n",
              "      <td>38</td>\n",
              "      <td>30.0</td>\n",
              "      <td>15.0</td>\n",
              "      <td>3245</td>\n",
              "      <td>non-USA</td>\n",
              "      <td>Volvo 850</td>\n",
              "    </tr>\n",
              "  </tbody>\n",
              "</table>\n",
              "<p>93 rows × 27 columns</p>\n",
              "</div>\n",
              "      <button class=\"colab-df-convert\" onclick=\"convertToInteractive('df-e5e881db-54ae-4725-a9d5-d440f765c050')\"\n",
              "              title=\"Convert this dataframe to an interactive table.\"\n",
              "              style=\"display:none;\">\n",
              "        \n",
              "  <svg xmlns=\"http://www.w3.org/2000/svg\" height=\"24px\"viewBox=\"0 0 24 24\"\n",
              "       width=\"24px\">\n",
              "    <path d=\"M0 0h24v24H0V0z\" fill=\"none\"/>\n",
              "    <path d=\"M18.56 5.44l.94 2.06.94-2.06 2.06-.94-2.06-.94-.94-2.06-.94 2.06-2.06.94zm-11 1L8.5 8.5l.94-2.06 2.06-.94-2.06-.94L8.5 2.5l-.94 2.06-2.06.94zm10 10l.94 2.06.94-2.06 2.06-.94-2.06-.94-.94-2.06-.94 2.06-2.06.94z\"/><path d=\"M17.41 7.96l-1.37-1.37c-.4-.4-.92-.59-1.43-.59-.52 0-1.04.2-1.43.59L10.3 9.45l-7.72 7.72c-.78.78-.78 2.05 0 2.83L4 21.41c.39.39.9.59 1.41.59.51 0 1.02-.2 1.41-.59l7.78-7.78 2.81-2.81c.8-.78.8-2.07 0-2.86zM5.41 20L4 18.59l7.72-7.72 1.47 1.35L5.41 20z\"/>\n",
              "  </svg>\n",
              "      </button>\n",
              "      \n",
              "  <style>\n",
              "    .colab-df-container {\n",
              "      display:flex;\n",
              "      flex-wrap:wrap;\n",
              "      gap: 12px;\n",
              "    }\n",
              "\n",
              "    .colab-df-convert {\n",
              "      background-color: #E8F0FE;\n",
              "      border: none;\n",
              "      border-radius: 50%;\n",
              "      cursor: pointer;\n",
              "      display: none;\n",
              "      fill: #1967D2;\n",
              "      height: 32px;\n",
              "      padding: 0 0 0 0;\n",
              "      width: 32px;\n",
              "    }\n",
              "\n",
              "    .colab-df-convert:hover {\n",
              "      background-color: #E2EBFA;\n",
              "      box-shadow: 0px 1px 2px rgba(60, 64, 67, 0.3), 0px 1px 3px 1px rgba(60, 64, 67, 0.15);\n",
              "      fill: #174EA6;\n",
              "    }\n",
              "\n",
              "    [theme=dark] .colab-df-convert {\n",
              "      background-color: #3B4455;\n",
              "      fill: #D2E3FC;\n",
              "    }\n",
              "\n",
              "    [theme=dark] .colab-df-convert:hover {\n",
              "      background-color: #434B5C;\n",
              "      box-shadow: 0px 1px 3px 1px rgba(0, 0, 0, 0.15);\n",
              "      filter: drop-shadow(0px 1px 2px rgba(0, 0, 0, 0.3));\n",
              "      fill: #FFFFFF;\n",
              "    }\n",
              "  </style>\n",
              "\n",
              "      <script>\n",
              "        const buttonEl =\n",
              "          document.querySelector('#df-e5e881db-54ae-4725-a9d5-d440f765c050 button.colab-df-convert');\n",
              "        buttonEl.style.display =\n",
              "          google.colab.kernel.accessAllowed ? 'block' : 'none';\n",
              "\n",
              "        async function convertToInteractive(key) {\n",
              "          const element = document.querySelector('#df-e5e881db-54ae-4725-a9d5-d440f765c050');\n",
              "          const dataTable =\n",
              "            await google.colab.kernel.invokeFunction('convertToInteractive',\n",
              "                                                     [key], {});\n",
              "          if (!dataTable) return;\n",
              "\n",
              "          const docLinkHtml = 'Like what you see? Visit the ' +\n",
              "            '<a target=\"_blank\" href=https://colab.research.google.com/notebooks/data_table.ipynb>data table notebook</a>'\n",
              "            + ' to learn more about interactive tables.';\n",
              "          element.innerHTML = '';\n",
              "          dataTable['output_type'] = 'display_data';\n",
              "          await google.colab.output.renderOutput(dataTable, element);\n",
              "          const docLink = document.createElement('div');\n",
              "          docLink.innerHTML = docLinkHtml;\n",
              "          element.appendChild(docLink);\n",
              "        }\n",
              "      </script>\n",
              "    </div>\n",
              "  </div>\n",
              "  "
            ]
          },
          "metadata": {},
          "execution_count": 1
        }
      ],
      "source": [
        "import pandas as pd\n",
        "import numpy as np\n",
        "import datetime\n",
        "import statsmodels.api as sm \n",
        "from statsmodels.formula.api import ols\n",
        "from matplotlib import pyplot as plt\n",
        "from google.colab import drive\n",
        "from sklearn.linear_model import LinearRegression\n",
        "from sklearn.model_selection import train_test_split\n",
        "from sklearn.metrics import mean_squared_error, r2_score \n",
        "\n",
        "cars = sm.datasets.get_rdataset(\"Cars93\", \"MASS\")\n",
        "carsdframe = pd.DataFrame(cars.data)\n",
        "carsdframe"
      ]
    },
    {
      "cell_type": "markdown",
      "source": [
        "After looking at the dataset, we can conclude that there are a couple categorical columns. Within our Anova model, we will see how car type impacts the price of a car. Please note that we must multiply the price of a car by 10 to get the true car price. Now lets see how many levels the type category has"
      ],
      "metadata": {
        "id": "MZToR2ZtUKm7"
      }
    },
    {
      "cell_type": "code",
      "source": [
        "carsdframe['Type'].unique()"
      ],
      "metadata": {
        "colab": {
          "base_uri": "https://localhost:8080/"
        },
        "id": "1rIp8n15TDYF",
        "outputId": "89d7d739-475b-4e11-acdf-929a605555c0"
      },
      "execution_count": 2,
      "outputs": [
        {
          "output_type": "execute_result",
          "data": {
            "text/plain": [
              "array(['Small', 'Midsize', 'Compact', 'Large', 'Sporty', 'Van'],\n",
              "      dtype=object)"
            ]
          },
          "metadata": {},
          "execution_count": 2
        }
      ]
    },
    {
      "cell_type": "markdown",
      "source": [
        "Lets extract our X and Y from the data frame. We also need to dumbify our categorical column so that we can use it in our OLS. Pandas has a simple get dummies function"
      ],
      "metadata": {
        "id": "Bkn7pIlpWOE7"
      }
    },
    {
      "cell_type": "code",
      "source": [
        "Xtest = carsdframe[['Type']]\n",
        "ytest = carsdframe[['Price']]\n",
        "\n",
        "\n",
        "pd.get_dummies(data=Xtest, drop_first=True), ytest"
      ],
      "metadata": {
        "colab": {
          "base_uri": "https://localhost:8080/"
        },
        "id": "ekDw4FZSV3XU",
        "outputId": "f103ca70-489f-4f19-fa64-87b2bef49f99"
      },
      "execution_count": 3,
      "outputs": [
        {
          "output_type": "execute_result",
          "data": {
            "text/plain": [
              "(    Type_Large  Type_Midsize  Type_Small  Type_Sporty  Type_Van\n",
              " 0            0             0           1            0         0\n",
              " 1            0             1           0            0         0\n",
              " 2            0             0           0            0         0\n",
              " 3            0             1           0            0         0\n",
              " 4            0             1           0            0         0\n",
              " ..         ...           ...         ...          ...       ...\n",
              " 88           0             0           0            0         1\n",
              " 89           0             0           0            0         0\n",
              " 90           0             0           0            1         0\n",
              " 91           0             0           0            0         0\n",
              " 92           0             1           0            0         0\n",
              " \n",
              " [93 rows x 5 columns],     Price\n",
              " 0    15.9\n",
              " 1    33.9\n",
              " 2    29.1\n",
              " 3    37.7\n",
              " 4    30.0\n",
              " ..    ...\n",
              " 88   19.7\n",
              " 89   20.0\n",
              " 90   23.3\n",
              " 91   22.7\n",
              " 92   26.7\n",
              " \n",
              " [93 rows x 1 columns])"
            ]
          },
          "metadata": {},
          "execution_count": 3
        }
      ]
    },
    {
      "cell_type": "markdown",
      "source": [
        "Our dimensions are now fit for an OLS model. We also need to keep in mind that our compact variable is not shown in the dummy matrix above, so that is our reference category. I will come back to this point once we perform our OLS. We will now call the linear regression object from stats models."
      ],
      "metadata": {
        "id": "Nvc1EyhSXY_w"
      }
    },
    {
      "cell_type": "code",
      "source": [
        "Xtest = pd.get_dummies(data=Xtest, drop_first=True)\n",
        "CarsAnova = LinearRegression()\n",
        "CarsAnova.fit(Xtest, ytest)\n",
        "print(CarsAnova.intercept_)\n",
        "print(CarsAnova.coef_)"
      ],
      "metadata": {
        "colab": {
          "base_uri": "https://localhost:8080/"
        },
        "id": "4KR5UeehZDEl",
        "outputId": "90e12d81-f944-4998-a6ff-5d7f03ad4c6e"
      },
      "execution_count": 4,
      "outputs": [
        {
          "output_type": "stream",
          "name": "stdout",
          "text": [
            "[18.2125]\n",
            "[[ 6.0875      9.00568182 -8.04583333  1.18035714  0.8875    ]]\n"
          ]
        }
      ]
    },
    {
      "cell_type": "markdown",
      "source": [
        "The average price of a Compact car is 18.2K. We can also see that being a midsize car adds teh most value. In the following section, We will attemp to perform an OLS manually using simple matrix operations. The stats Linear Regresison module automatically fits an intercept. If we did it manually, we would have to add an intercept column to our TYPE matrix"
      ],
      "metadata": {
        "id": "7gcSRxUfh6bH"
      }
    },
    {
      "cell_type": "code",
      "source": [
        "#To do a manual OLS, I must manually create my intercept columns. I can easily do this in two different ways. The first way displaied turns our data into a numpy matrix. The second way keeps the pandas dataframe casting\n",
        "\n",
        "#intcpt = np.ones(len(ytest))\n",
        "#Xtest_mod = np.column_stack((intcpt, Xtest))\n",
        "\n",
        "Xtest.insert(0, 'Intercept', [1 for i in range(len(Xtest))])\n",
        "\n",
        "#When manually computihng OLS, its important to covert dataframes into numpy arrays / matrix so that we can do numpy matrix operations\n",
        "Xtest2 = Xtest.to_numpy()\n",
        "ytest2 = ytest.to_numpy()\n",
        "XTX = Xtest2.transpose() @ Xtest2\n",
        "XTY = Xtest2.transpose() @ ytest\n",
        "betas = np.linalg.inv(XTX) @ XTY\n",
        "betas \n",
        "\n"
      ],
      "metadata": {
        "colab": {
          "base_uri": "https://localhost:8080/",
          "height": 238
        },
        "id": "hFQXHCCpkiX6",
        "outputId": "632c051a-4b63-4419-88a0-cd56d14b9986"
      },
      "execution_count": 5,
      "outputs": [
        {
          "output_type": "execute_result",
          "data": {
            "text/plain": [
              "       Price\n",
              "0  18.212500\n",
              "1   6.087500\n",
              "2   9.005682\n",
              "3  -8.045833\n",
              "4   1.180357\n",
              "5   0.887500"
            ],
            "text/html": [
              "\n",
              "  <div id=\"df-8b7c9b2f-c0b3-40ab-93e3-c2bec3b70a8e\">\n",
              "    <div class=\"colab-df-container\">\n",
              "      <div>\n",
              "<style scoped>\n",
              "    .dataframe tbody tr th:only-of-type {\n",
              "        vertical-align: middle;\n",
              "    }\n",
              "\n",
              "    .dataframe tbody tr th {\n",
              "        vertical-align: top;\n",
              "    }\n",
              "\n",
              "    .dataframe thead th {\n",
              "        text-align: right;\n",
              "    }\n",
              "</style>\n",
              "<table border=\"1\" class=\"dataframe\">\n",
              "  <thead>\n",
              "    <tr style=\"text-align: right;\">\n",
              "      <th></th>\n",
              "      <th>Price</th>\n",
              "    </tr>\n",
              "  </thead>\n",
              "  <tbody>\n",
              "    <tr>\n",
              "      <th>0</th>\n",
              "      <td>18.212500</td>\n",
              "    </tr>\n",
              "    <tr>\n",
              "      <th>1</th>\n",
              "      <td>6.087500</td>\n",
              "    </tr>\n",
              "    <tr>\n",
              "      <th>2</th>\n",
              "      <td>9.005682</td>\n",
              "    </tr>\n",
              "    <tr>\n",
              "      <th>3</th>\n",
              "      <td>-8.045833</td>\n",
              "    </tr>\n",
              "    <tr>\n",
              "      <th>4</th>\n",
              "      <td>1.180357</td>\n",
              "    </tr>\n",
              "    <tr>\n",
              "      <th>5</th>\n",
              "      <td>0.887500</td>\n",
              "    </tr>\n",
              "  </tbody>\n",
              "</table>\n",
              "</div>\n",
              "      <button class=\"colab-df-convert\" onclick=\"convertToInteractive('df-8b7c9b2f-c0b3-40ab-93e3-c2bec3b70a8e')\"\n",
              "              title=\"Convert this dataframe to an interactive table.\"\n",
              "              style=\"display:none;\">\n",
              "        \n",
              "  <svg xmlns=\"http://www.w3.org/2000/svg\" height=\"24px\"viewBox=\"0 0 24 24\"\n",
              "       width=\"24px\">\n",
              "    <path d=\"M0 0h24v24H0V0z\" fill=\"none\"/>\n",
              "    <path d=\"M18.56 5.44l.94 2.06.94-2.06 2.06-.94-2.06-.94-.94-2.06-.94 2.06-2.06.94zm-11 1L8.5 8.5l.94-2.06 2.06-.94-2.06-.94L8.5 2.5l-.94 2.06-2.06.94zm10 10l.94 2.06.94-2.06 2.06-.94-2.06-.94-.94-2.06-.94 2.06-2.06.94z\"/><path d=\"M17.41 7.96l-1.37-1.37c-.4-.4-.92-.59-1.43-.59-.52 0-1.04.2-1.43.59L10.3 9.45l-7.72 7.72c-.78.78-.78 2.05 0 2.83L4 21.41c.39.39.9.59 1.41.59.51 0 1.02-.2 1.41-.59l7.78-7.78 2.81-2.81c.8-.78.8-2.07 0-2.86zM5.41 20L4 18.59l7.72-7.72 1.47 1.35L5.41 20z\"/>\n",
              "  </svg>\n",
              "      </button>\n",
              "      \n",
              "  <style>\n",
              "    .colab-df-container {\n",
              "      display:flex;\n",
              "      flex-wrap:wrap;\n",
              "      gap: 12px;\n",
              "    }\n",
              "\n",
              "    .colab-df-convert {\n",
              "      background-color: #E8F0FE;\n",
              "      border: none;\n",
              "      border-radius: 50%;\n",
              "      cursor: pointer;\n",
              "      display: none;\n",
              "      fill: #1967D2;\n",
              "      height: 32px;\n",
              "      padding: 0 0 0 0;\n",
              "      width: 32px;\n",
              "    }\n",
              "\n",
              "    .colab-df-convert:hover {\n",
              "      background-color: #E2EBFA;\n",
              "      box-shadow: 0px 1px 2px rgba(60, 64, 67, 0.3), 0px 1px 3px 1px rgba(60, 64, 67, 0.15);\n",
              "      fill: #174EA6;\n",
              "    }\n",
              "\n",
              "    [theme=dark] .colab-df-convert {\n",
              "      background-color: #3B4455;\n",
              "      fill: #D2E3FC;\n",
              "    }\n",
              "\n",
              "    [theme=dark] .colab-df-convert:hover {\n",
              "      background-color: #434B5C;\n",
              "      box-shadow: 0px 1px 3px 1px rgba(0, 0, 0, 0.15);\n",
              "      filter: drop-shadow(0px 1px 2px rgba(0, 0, 0, 0.3));\n",
              "      fill: #FFFFFF;\n",
              "    }\n",
              "  </style>\n",
              "\n",
              "      <script>\n",
              "        const buttonEl =\n",
              "          document.querySelector('#df-8b7c9b2f-c0b3-40ab-93e3-c2bec3b70a8e button.colab-df-convert');\n",
              "        buttonEl.style.display =\n",
              "          google.colab.kernel.accessAllowed ? 'block' : 'none';\n",
              "\n",
              "        async function convertToInteractive(key) {\n",
              "          const element = document.querySelector('#df-8b7c9b2f-c0b3-40ab-93e3-c2bec3b70a8e');\n",
              "          const dataTable =\n",
              "            await google.colab.kernel.invokeFunction('convertToInteractive',\n",
              "                                                     [key], {});\n",
              "          if (!dataTable) return;\n",
              "\n",
              "          const docLinkHtml = 'Like what you see? Visit the ' +\n",
              "            '<a target=\"_blank\" href=https://colab.research.google.com/notebooks/data_table.ipynb>data table notebook</a>'\n",
              "            + ' to learn more about interactive tables.';\n",
              "          element.innerHTML = '';\n",
              "          dataTable['output_type'] = 'display_data';\n",
              "          await google.colab.output.renderOutput(dataTable, element);\n",
              "          const docLink = document.createElement('div');\n",
              "          docLink.innerHTML = docLinkHtml;\n",
              "          element.appendChild(docLink);\n",
              "        }\n",
              "      </script>\n",
              "    </div>\n",
              "  </div>\n",
              "  "
            ]
          },
          "metadata": {},
          "execution_count": 5
        }
      ]
    },
    {
      "cell_type": "markdown",
      "source": [
        "As you can see, we got the same exact values as when we performed OLS with the statsmodels module. Now I will calculate error metrics and yhat (predictions)"
      ],
      "metadata": {
        "id": "6iTypVOtI2o0"
      }
    },
    {
      "cell_type": "code",
      "source": [
        "yhat = Xtest2 @ betas\n",
        "\n",
        "#creating numpy version of predictions to do more calculations later\n",
        "yhat2 = yhat.to_numpy()"
      ],
      "metadata": {
        "id": "RXotajHCJBpE"
      },
      "execution_count": 6,
      "outputs": []
    },
    {
      "cell_type": "code",
      "source": [
        "carsanova_error = ytest2 - yhat2\n",
        "carsanova_error[0:10]"
      ],
      "metadata": {
        "colab": {
          "base_uri": "https://localhost:8080/"
        },
        "id": "0rTyr9WrKrLJ",
        "outputId": "00fab396-a7c7-4373-c927-b7b87ef4311d"
      },
      "execution_count": 7,
      "outputs": [
        {
          "output_type": "execute_result",
          "data": {
            "text/plain": [
              "array([[  5.73333333],\n",
              "       [  6.68181818],\n",
              "       [ 10.8875    ],\n",
              "       [ 10.48181818],\n",
              "       [  2.78181818],\n",
              "       [-11.51818182],\n",
              "       [ -3.5       ],\n",
              "       [ -0.6       ],\n",
              "       [ -0.91818182],\n",
              "       [ 10.4       ]])"
            ]
          },
          "metadata": {},
          "execution_count": 7
        }
      ]
    },
    {
      "cell_type": "markdown",
      "source": [
        "In this section, we will calculate R^2 (Best metric that hel[ps us determine how well our model has performed"
      ],
      "metadata": {
        "id": "y52dZRTmLxNL"
      }
    },
    {
      "cell_type": "code",
      "source": [
        "R_sq = (np.var(ytest2) - np.var(carsanova_error))/ np.var(ytest2)\n",
        "SSE = np.sum(np.square(carsanova_error))\n",
        "MSE = 1/(len(Xtest2) - 2) * SSE\n",
        "RMSE = np.sqrt(MSE)\n",
        "print('RSQUARED: {} \\nRMSE: {} \\nSSE: {} \\nMSE: {}'.format(R_sq, RMSE, SSE, MSE))"
      ],
      "metadata": {
        "colab": {
          "base_uri": "https://localhost:8080/"
        },
        "id": "LlSgylbhMHlw",
        "outputId": "0c946643-d63f-4b52-d1d9-88435c64e388"
      },
      "execution_count": 8,
      "outputs": [
        {
          "output_type": "stream",
          "name": "stdout",
          "text": [
            "RSQUARED: 0.3985818528346552 \n",
            "RMSE: 7.532045954448933 \n",
            "SSE: 5162.586179653679 \n",
            "MSE: 56.73171625993054\n"
          ]
        }
      ]
    },
    {
      "cell_type": "markdown",
      "source": [
        "With just the 'type' attribute, we were able to increase our models efficiency by 39%. I will now attempt to perform an OLS with two categorical attributes. Lets see how price is impacted by the car type and airbags. As we can see below, there are 3 levels to our airbag column therefore our dummy matrix will be N X 3"
      ],
      "metadata": {
        "id": "LW2Rq1k8PUqT"
      }
    },
    {
      "cell_type": "code",
      "source": [
        "carsdframe['AirBags'].value_counts()"
      ],
      "metadata": {
        "colab": {
          "base_uri": "https://localhost:8080/"
        },
        "id": "jBXZvuy9c10N",
        "outputId": "de2c4f85-5ba7-443a-b700-868fc9233358"
      },
      "execution_count": 9,
      "outputs": [
        {
          "output_type": "execute_result",
          "data": {
            "text/plain": [
              "Driver only           43\n",
              "None                  34\n",
              "Driver & Passenger    16\n",
              "Name: AirBags, dtype: int64"
            ]
          },
          "metadata": {},
          "execution_count": 9
        }
      ]
    },
    {
      "cell_type": "code",
      "source": [
        "xtest3 = pd.get_dummies(data= carsdframe[['AirBags', 'Type']], drop_first=True)\n",
        "#xtest3.insert(0, 'Intercept', [1 for i in range(len(xtest3))])\n",
        "xtest3"
      ],
      "metadata": {
        "colab": {
          "base_uri": "https://localhost:8080/",
          "height": 424
        },
        "id": "X2FiO_CKd1p1",
        "outputId": "4ddad4bc-20c4-4591-84b5-6591e7c1828c"
      },
      "execution_count": 10,
      "outputs": [
        {
          "output_type": "execute_result",
          "data": {
            "text/plain": [
              "    AirBags_Driver only  AirBags_None  Type_Large  Type_Midsize  Type_Small  \\\n",
              "0                     0             1           0             0           1   \n",
              "1                     0             0           0             1           0   \n",
              "2                     1             0           0             0           0   \n",
              "3                     0             0           0             1           0   \n",
              "4                     1             0           0             1           0   \n",
              "..                  ...           ...         ...           ...         ...   \n",
              "88                    0             1           0             0           0   \n",
              "89                    0             1           0             0           0   \n",
              "90                    0             1           0             0           0   \n",
              "91                    1             0           0             0           0   \n",
              "92                    0             0           0             1           0   \n",
              "\n",
              "    Type_Sporty  Type_Van  \n",
              "0             0         0  \n",
              "1             0         0  \n",
              "2             0         0  \n",
              "3             0         0  \n",
              "4             0         0  \n",
              "..          ...       ...  \n",
              "88            0         1  \n",
              "89            0         0  \n",
              "90            1         0  \n",
              "91            0         0  \n",
              "92            0         0  \n",
              "\n",
              "[93 rows x 7 columns]"
            ],
            "text/html": [
              "\n",
              "  <div id=\"df-29d3ec85-0fb2-46f7-b0e3-3a13469de8a0\">\n",
              "    <div class=\"colab-df-container\">\n",
              "      <div>\n",
              "<style scoped>\n",
              "    .dataframe tbody tr th:only-of-type {\n",
              "        vertical-align: middle;\n",
              "    }\n",
              "\n",
              "    .dataframe tbody tr th {\n",
              "        vertical-align: top;\n",
              "    }\n",
              "\n",
              "    .dataframe thead th {\n",
              "        text-align: right;\n",
              "    }\n",
              "</style>\n",
              "<table border=\"1\" class=\"dataframe\">\n",
              "  <thead>\n",
              "    <tr style=\"text-align: right;\">\n",
              "      <th></th>\n",
              "      <th>AirBags_Driver only</th>\n",
              "      <th>AirBags_None</th>\n",
              "      <th>Type_Large</th>\n",
              "      <th>Type_Midsize</th>\n",
              "      <th>Type_Small</th>\n",
              "      <th>Type_Sporty</th>\n",
              "      <th>Type_Van</th>\n",
              "    </tr>\n",
              "  </thead>\n",
              "  <tbody>\n",
              "    <tr>\n",
              "      <th>0</th>\n",
              "      <td>0</td>\n",
              "      <td>1</td>\n",
              "      <td>0</td>\n",
              "      <td>0</td>\n",
              "      <td>1</td>\n",
              "      <td>0</td>\n",
              "      <td>0</td>\n",
              "    </tr>\n",
              "    <tr>\n",
              "      <th>1</th>\n",
              "      <td>0</td>\n",
              "      <td>0</td>\n",
              "      <td>0</td>\n",
              "      <td>1</td>\n",
              "      <td>0</td>\n",
              "      <td>0</td>\n",
              "      <td>0</td>\n",
              "    </tr>\n",
              "    <tr>\n",
              "      <th>2</th>\n",
              "      <td>1</td>\n",
              "      <td>0</td>\n",
              "      <td>0</td>\n",
              "      <td>0</td>\n",
              "      <td>0</td>\n",
              "      <td>0</td>\n",
              "      <td>0</td>\n",
              "    </tr>\n",
              "    <tr>\n",
              "      <th>3</th>\n",
              "      <td>0</td>\n",
              "      <td>0</td>\n",
              "      <td>0</td>\n",
              "      <td>1</td>\n",
              "      <td>0</td>\n",
              "      <td>0</td>\n",
              "      <td>0</td>\n",
              "    </tr>\n",
              "    <tr>\n",
              "      <th>4</th>\n",
              "      <td>1</td>\n",
              "      <td>0</td>\n",
              "      <td>0</td>\n",
              "      <td>1</td>\n",
              "      <td>0</td>\n",
              "      <td>0</td>\n",
              "      <td>0</td>\n",
              "    </tr>\n",
              "    <tr>\n",
              "      <th>...</th>\n",
              "      <td>...</td>\n",
              "      <td>...</td>\n",
              "      <td>...</td>\n",
              "      <td>...</td>\n",
              "      <td>...</td>\n",
              "      <td>...</td>\n",
              "      <td>...</td>\n",
              "    </tr>\n",
              "    <tr>\n",
              "      <th>88</th>\n",
              "      <td>0</td>\n",
              "      <td>1</td>\n",
              "      <td>0</td>\n",
              "      <td>0</td>\n",
              "      <td>0</td>\n",
              "      <td>0</td>\n",
              "      <td>1</td>\n",
              "    </tr>\n",
              "    <tr>\n",
              "      <th>89</th>\n",
              "      <td>0</td>\n",
              "      <td>1</td>\n",
              "      <td>0</td>\n",
              "      <td>0</td>\n",
              "      <td>0</td>\n",
              "      <td>0</td>\n",
              "      <td>0</td>\n",
              "    </tr>\n",
              "    <tr>\n",
              "      <th>90</th>\n",
              "      <td>0</td>\n",
              "      <td>1</td>\n",
              "      <td>0</td>\n",
              "      <td>0</td>\n",
              "      <td>0</td>\n",
              "      <td>1</td>\n",
              "      <td>0</td>\n",
              "    </tr>\n",
              "    <tr>\n",
              "      <th>91</th>\n",
              "      <td>1</td>\n",
              "      <td>0</td>\n",
              "      <td>0</td>\n",
              "      <td>0</td>\n",
              "      <td>0</td>\n",
              "      <td>0</td>\n",
              "      <td>0</td>\n",
              "    </tr>\n",
              "    <tr>\n",
              "      <th>92</th>\n",
              "      <td>0</td>\n",
              "      <td>0</td>\n",
              "      <td>0</td>\n",
              "      <td>1</td>\n",
              "      <td>0</td>\n",
              "      <td>0</td>\n",
              "      <td>0</td>\n",
              "    </tr>\n",
              "  </tbody>\n",
              "</table>\n",
              "<p>93 rows × 7 columns</p>\n",
              "</div>\n",
              "      <button class=\"colab-df-convert\" onclick=\"convertToInteractive('df-29d3ec85-0fb2-46f7-b0e3-3a13469de8a0')\"\n",
              "              title=\"Convert this dataframe to an interactive table.\"\n",
              "              style=\"display:none;\">\n",
              "        \n",
              "  <svg xmlns=\"http://www.w3.org/2000/svg\" height=\"24px\"viewBox=\"0 0 24 24\"\n",
              "       width=\"24px\">\n",
              "    <path d=\"M0 0h24v24H0V0z\" fill=\"none\"/>\n",
              "    <path d=\"M18.56 5.44l.94 2.06.94-2.06 2.06-.94-2.06-.94-.94-2.06-.94 2.06-2.06.94zm-11 1L8.5 8.5l.94-2.06 2.06-.94-2.06-.94L8.5 2.5l-.94 2.06-2.06.94zm10 10l.94 2.06.94-2.06 2.06-.94-2.06-.94-.94-2.06-.94 2.06-2.06.94z\"/><path d=\"M17.41 7.96l-1.37-1.37c-.4-.4-.92-.59-1.43-.59-.52 0-1.04.2-1.43.59L10.3 9.45l-7.72 7.72c-.78.78-.78 2.05 0 2.83L4 21.41c.39.39.9.59 1.41.59.51 0 1.02-.2 1.41-.59l7.78-7.78 2.81-2.81c.8-.78.8-2.07 0-2.86zM5.41 20L4 18.59l7.72-7.72 1.47 1.35L5.41 20z\"/>\n",
              "  </svg>\n",
              "      </button>\n",
              "      \n",
              "  <style>\n",
              "    .colab-df-container {\n",
              "      display:flex;\n",
              "      flex-wrap:wrap;\n",
              "      gap: 12px;\n",
              "    }\n",
              "\n",
              "    .colab-df-convert {\n",
              "      background-color: #E8F0FE;\n",
              "      border: none;\n",
              "      border-radius: 50%;\n",
              "      cursor: pointer;\n",
              "      display: none;\n",
              "      fill: #1967D2;\n",
              "      height: 32px;\n",
              "      padding: 0 0 0 0;\n",
              "      width: 32px;\n",
              "    }\n",
              "\n",
              "    .colab-df-convert:hover {\n",
              "      background-color: #E2EBFA;\n",
              "      box-shadow: 0px 1px 2px rgba(60, 64, 67, 0.3), 0px 1px 3px 1px rgba(60, 64, 67, 0.15);\n",
              "      fill: #174EA6;\n",
              "    }\n",
              "\n",
              "    [theme=dark] .colab-df-convert {\n",
              "      background-color: #3B4455;\n",
              "      fill: #D2E3FC;\n",
              "    }\n",
              "\n",
              "    [theme=dark] .colab-df-convert:hover {\n",
              "      background-color: #434B5C;\n",
              "      box-shadow: 0px 1px 3px 1px rgba(0, 0, 0, 0.15);\n",
              "      filter: drop-shadow(0px 1px 2px rgba(0, 0, 0, 0.3));\n",
              "      fill: #FFFFFF;\n",
              "    }\n",
              "  </style>\n",
              "\n",
              "      <script>\n",
              "        const buttonEl =\n",
              "          document.querySelector('#df-29d3ec85-0fb2-46f7-b0e3-3a13469de8a0 button.colab-df-convert');\n",
              "        buttonEl.style.display =\n",
              "          google.colab.kernel.accessAllowed ? 'block' : 'none';\n",
              "\n",
              "        async function convertToInteractive(key) {\n",
              "          const element = document.querySelector('#df-29d3ec85-0fb2-46f7-b0e3-3a13469de8a0');\n",
              "          const dataTable =\n",
              "            await google.colab.kernel.invokeFunction('convertToInteractive',\n",
              "                                                     [key], {});\n",
              "          if (!dataTable) return;\n",
              "\n",
              "          const docLinkHtml = 'Like what you see? Visit the ' +\n",
              "            '<a target=\"_blank\" href=https://colab.research.google.com/notebooks/data_table.ipynb>data table notebook</a>'\n",
              "            + ' to learn more about interactive tables.';\n",
              "          element.innerHTML = '';\n",
              "          dataTable['output_type'] = 'display_data';\n",
              "          await google.colab.output.renderOutput(dataTable, element);\n",
              "          const docLink = document.createElement('div');\n",
              "          docLink.innerHTML = docLinkHtml;\n",
              "          element.appendChild(docLink);\n",
              "        }\n",
              "      </script>\n",
              "    </div>\n",
              "  </div>\n",
              "  "
            ]
          },
          "metadata": {},
          "execution_count": 10
        }
      ]
    },
    {
      "cell_type": "code",
      "source": [
        "ytest3 = carsdframe['Price']\n",
        "Carsonova2 = LinearRegression()\n",
        "Carsonova2.fit(xtest3, ytest3)\n",
        "SSE2 = np.sum(np.square(ytest3 - Carsonova2.predict(xtest3)))\n",
        "MSE2 = mean_squared_error(y_true=ytest3, y_pred=yhat2, squared=False)\n",
        "RMSE2 = np.sqrt(MSE2)\n",
        "R_sq2 = r2_score(ytest3, Carsonova2.predict(xtest3))\n",
        "yhat2 = Carsonova2.predict(xtest3)\n",
        "\n",
        "#MSE can be computed this way as well\n",
        "#(1/(len(xtest3) - 2)) * SSE2\n",
        "\n",
        "\n",
        "print(xtest3.columns)\n",
        "print('Y intercept:  {} \\nBETAS: {}\\n\\n\\n'.format(Carsonova2.intercept_, Carsonova2.coef_))\n",
        "print('ERROR METRICS \\n\\nSSE: {} \\nMSE: {}\\nRMSE: {}\\nRSQ: {}'.format(SSE2, MSE2, RMSE2, R_sq2))\n",
        "\n"
      ],
      "metadata": {
        "colab": {
          "base_uri": "https://localhost:8080/"
        },
        "id": "CAcrhO57e9Ci",
        "outputId": "c1ccde89-f1fa-47bb-a7e1-5453c93fbb7d"
      },
      "execution_count": 11,
      "outputs": [
        {
          "output_type": "stream",
          "name": "stdout",
          "text": [
            "Index(['AirBags_Driver only', 'AirBags_None', 'Type_Large', 'Type_Midsize',\n",
            "       'Type_Small', 'Type_Sporty', 'Type_Van'],\n",
            "      dtype='object')\n",
            "Y intercept:  24.283278239050148 \n",
            "BETAS: [ -5.15216212 -10.15259856   3.29537038   7.35691165  -5.15459312\n",
            "   0.22922837   3.30250817]\n",
            "\n",
            "\n",
            "\n",
            "ERROR METRICS \n",
            "\n",
            "SSE: 4356.409779328956 \n",
            "MSE: 7.450616038363192\n",
            "RMSE: 2.7295816599550915\n",
            "RSQ: 0.4924977895569449\n"
          ]
        }
      ]
    },
    {
      "cell_type": "markdown",
      "source": [
        "Notice that our Rsquared increased by about 10 points when we added one more attribute. \n",
        "\n",
        "# ANCOVA\n",
        "In this section, we will have atleast 1 continuous attribute, and atleast 1 categorical attribute. Therefore, our OLS will be an analysis of covariances. Lets look at horsepower and airbags"
      ],
      "metadata": {
        "id": "5bg-vauUqqQ8"
      }
    },
    {
      "cell_type": "code",
      "source": [
        "xtest5 = pd.get_dummies(carsdframe[[ 'AirBags', 'Horsepower']], drop_first=True)\n",
        "print(xtest5.columns)\n",
        "print\n",
        "\n",
        "\n",
        "ytest5 = carsdframe['Price']\n",
        "\n",
        "ANCOVA_model = LinearRegression(fit_intercept = True)\n",
        "ANCOVA_model.fit(xtest5, ytest5)\n",
        "inctp4 = ANCOVA_model.intercept_\n",
        "betas4 = ANCOVA_model.coef_\n",
        "\n",
        "\n",
        "print('Intercept: {} \\ncoefficients: {}'.format(inctp4, betas4))"
      ],
      "metadata": {
        "id": "M4XwN92Mj3_x",
        "colab": {
          "base_uri": "https://localhost:8080/"
        },
        "outputId": "89ea8a91-ccf5-4e53-9a78-a2951c0e6da7"
      },
      "execution_count": 18,
      "outputs": [
        {
          "output_type": "stream",
          "name": "stdout",
          "text": [
            "Index(['Horsepower', 'AirBags_Driver only', 'AirBags_None'], dtype='object')\n",
            "Intercept: 5.590568890909495 \n",
            "coefficients: [ 0.12375243 -3.15178032 -6.62672993]\n"
          ]
        }
      ]
    },
    {
      "cell_type": "code",
      "source": [
        "x_star = np.matrix([240,0,1])\n",
        "ANCOVA_model.predict(x_star)\n",
        "\n"
      ],
      "metadata": {
        "colab": {
          "base_uri": "https://localhost:8080/"
        },
        "id": "A-A6IiA5CRAc",
        "outputId": "a0df5cb2-cc83-439a-8c87-527b9176fc2c"
      },
      "execution_count": 29,
      "outputs": [
        {
          "output_type": "stream",
          "name": "stderr",
          "text": [
            "/usr/local/lib/python3.7/dist-packages/sklearn/base.py:451: UserWarning: X does not have valid feature names, but LinearRegression was fitted with feature names\n",
            "  \"X does not have valid feature names, but\"\n",
            "/usr/local/lib/python3.7/dist-packages/sklearn/utils/validation.py:598: FutureWarning: np.matrix usage is deprecated in 1.0 and will raise a TypeError in 1.2. Please convert to a numpy array with np.asarray. For more information see: https://numpy.org/doc/stable/reference/generated/numpy.matrix.html\n",
            "  FutureWarning,\n"
          ]
        },
        {
          "output_type": "execute_result",
          "data": {
            "text/plain": [
              "array([28.66442146])"
            ]
          },
          "metadata": {},
          "execution_count": 29
        }
      ]
    },
    {
      "cell_type": "code",
      "source": [
        "ytest5 = carsdframe['Price']\n",
        "xtest5.insert(0, 'Intercept', [1 for i in range(len(xtest5))])\n",
        "# xtest5mod = xtest5.to_numpy \n",
        "# ytest5mod = ytest5.to_numpy\n",
        "\n",
        "#xtest5.insert(0, 'Intercept', [1 for i in range(len(xtest5))])\n",
        "\n",
        "\n"
      ],
      "metadata": {
        "id": "VZV00CzU2sDU"
      },
      "execution_count": 13,
      "outputs": []
    },
    {
      "cell_type": "code",
      "source": [
        "print(xtest5)"
      ],
      "metadata": {
        "colab": {
          "base_uri": "https://localhost:8080/"
        },
        "id": "Yk1-BPG1feVB",
        "outputId": "360d7b02-bc20-4ab7-95e0-a05fb7c1650e"
      },
      "execution_count": 14,
      "outputs": [
        {
          "output_type": "stream",
          "name": "stdout",
          "text": [
            "    Intercept  Horsepower  AirBags_Driver only  AirBags_None\n",
            "0           1         140                    0             1\n",
            "1           1         200                    0             0\n",
            "2           1         172                    1             0\n",
            "3           1         172                    0             0\n",
            "4           1         208                    1             0\n",
            "..        ...         ...                  ...           ...\n",
            "88          1         109                    0             1\n",
            "89          1         134                    0             1\n",
            "90          1         178                    0             1\n",
            "91          1         114                    1             0\n",
            "92          1         168                    0             0\n",
            "\n",
            "[93 rows x 4 columns]\n"
          ]
        }
      ]
    }
  ]
}