{
  "nbformat": 4,
  "nbformat_minor": 0,
  "metadata": {
    "colab": {
      "name": "gradientboostRegressionDemo.ipynb",
      "provenance": [],
      "authorship_tag": "ABX9TyP/jWOFrM0w2mhLA6Gd/7KF",
      "include_colab_link": true
    },
    "kernelspec": {
      "name": "python3",
      "display_name": "Python 3"
    },
    "language_info": {
      "name": "python"
    }
  },
  "cells": [
    {
      "cell_type": "markdown",
      "metadata": {
        "id": "view-in-github",
        "colab_type": "text"
      },
      "source": [
        "<a href=\"https://colab.research.google.com/github/Fordalo/Data_SCIENCE_WORK/blob/main/gradientboostRegressionDemo.ipynb\" target=\"_parent\"><img src=\"https://colab.research.google.com/assets/colab-badge.svg\" alt=\"Open In Colab\"/></a>"
      ]
    },
    {
      "cell_type": "code",
      "execution_count": 43,
      "metadata": {
        "id": "uNDYYCyGAAAa"
      },
      "outputs": [],
      "source": [
        "from sklearn.ensemble import GradientBoostingRegressor\n",
        "import numpy as np\n",
        "import pandas as pd\n",
        "from sklearn.model_selection import train_test_split\n",
        "from sklearn.metrics import mean_squared_error\n",
        "from sklearn.datasets import load_boston\n",
        "from sklearn.metrics import mean_absolute_error"
      ]
    },
    {
      "cell_type": "code",
      "source": [
        "#checking to see if we successfully loaded dataset\n",
        "boston = load_boston()\n",
        "X = pd.DataFrame(boston.data, columns = boston.feature_names)\n",
        "y = pd.Series(boston.target)\n",
        "print(X)\n",
        "print(y)"
      ],
      "metadata": {
        "colab": {
          "base_uri": "https://localhost:8080/"
        },
        "id": "x8w-pjJlArSv",
        "outputId": "3983c479-93bb-49b8-8bfb-48d643e2c8aa"
      },
      "execution_count": 44,
      "outputs": [
        {
          "output_type": "stream",
          "name": "stdout",
          "text": [
            "        CRIM    ZN  INDUS  CHAS    NOX     RM   AGE     DIS  RAD    TAX  \\\n",
            "0    0.00632  18.0   2.31   0.0  0.538  6.575  65.2  4.0900  1.0  296.0   \n",
            "1    0.02731   0.0   7.07   0.0  0.469  6.421  78.9  4.9671  2.0  242.0   \n",
            "2    0.02729   0.0   7.07   0.0  0.469  7.185  61.1  4.9671  2.0  242.0   \n",
            "3    0.03237   0.0   2.18   0.0  0.458  6.998  45.8  6.0622  3.0  222.0   \n",
            "4    0.06905   0.0   2.18   0.0  0.458  7.147  54.2  6.0622  3.0  222.0   \n",
            "..       ...   ...    ...   ...    ...    ...   ...     ...  ...    ...   \n",
            "501  0.06263   0.0  11.93   0.0  0.573  6.593  69.1  2.4786  1.0  273.0   \n",
            "502  0.04527   0.0  11.93   0.0  0.573  6.120  76.7  2.2875  1.0  273.0   \n",
            "503  0.06076   0.0  11.93   0.0  0.573  6.976  91.0  2.1675  1.0  273.0   \n",
            "504  0.10959   0.0  11.93   0.0  0.573  6.794  89.3  2.3889  1.0  273.0   \n",
            "505  0.04741   0.0  11.93   0.0  0.573  6.030  80.8  2.5050  1.0  273.0   \n",
            "\n",
            "     PTRATIO       B  LSTAT  \n",
            "0       15.3  396.90   4.98  \n",
            "1       17.8  396.90   9.14  \n",
            "2       17.8  392.83   4.03  \n",
            "3       18.7  394.63   2.94  \n",
            "4       18.7  396.90   5.33  \n",
            "..       ...     ...    ...  \n",
            "501     21.0  391.99   9.67  \n",
            "502     21.0  396.90   9.08  \n",
            "503     21.0  396.90   5.64  \n",
            "504     21.0  393.45   6.48  \n",
            "505     21.0  396.90   7.88  \n",
            "\n",
            "[506 rows x 13 columns]\n",
            "0      24.0\n",
            "1      21.6\n",
            "2      34.7\n",
            "3      33.4\n",
            "4      36.2\n",
            "       ... \n",
            "501    22.4\n",
            "502    20.6\n",
            "503    23.9\n",
            "504    22.0\n",
            "505    11.9\n",
            "Length: 506, dtype: float64\n"
          ]
        },
        {
          "output_type": "stream",
          "name": "stderr",
          "text": [
            "/usr/local/lib/python3.7/dist-packages/sklearn/utils/deprecation.py:87: FutureWarning: Function load_boston is deprecated; `load_boston` is deprecated in 1.0 and will be removed in 1.2.\n",
            "\n",
            "    The Boston housing prices dataset has an ethical problem. You can refer to\n",
            "    the documentation of this function for further details.\n",
            "\n",
            "    The scikit-learn maintainers therefore strongly discourage the use of this\n",
            "    dataset unless the purpose of the code is to study and educate about\n",
            "    ethical issues in data science and machine learning.\n",
            "\n",
            "    In this special case, you can fetch the dataset from the original\n",
            "    source::\n",
            "\n",
            "        import pandas as pd\n",
            "        import numpy as np\n",
            "\n",
            "\n",
            "        data_url = \"http://lib.stat.cmu.edu/datasets/boston\"\n",
            "        raw_df = pd.read_csv(data_url, sep=\"\\s+\", skiprows=22, header=None)\n",
            "        data = np.hstack([raw_df.values[::2, :], raw_df.values[1::2, :2]])\n",
            "        target = raw_df.values[1::2, 2]\n",
            "\n",
            "    Alternative datasets include the California housing dataset (i.e.\n",
            "    :func:`~sklearn.datasets.fetch_california_housing`) and the Ames housing\n",
            "    dataset. You can load the datasets as follows::\n",
            "\n",
            "        from sklearn.datasets import fetch_california_housing\n",
            "        housing = fetch_california_housing()\n",
            "\n",
            "    for the California housing dataset and::\n",
            "\n",
            "        from sklearn.datasets import fetch_openml\n",
            "        housing = fetch_openml(name=\"house_prices\", as_frame=True)\n",
            "\n",
            "    for the Ames housing dataset.\n",
            "    \n",
            "  warnings.warn(msg, category=FutureWarning)\n"
          ]
        }
      ]
    },
    {
      "cell_type": "code",
      "source": [
        "X_train, X_test, y_train, y_test = train_test_split(X,y)\n",
        "print(f\"X_train size: {len(X_train)}\\nX_test size: {len(X_test)}\\ny_train size: {len(y_train)}\\ny_test size: {len(y_test)}\")"
      ],
      "metadata": {
        "colab": {
          "base_uri": "https://localhost:8080/"
        },
        "id": "SJR_QZEOBWbq",
        "outputId": "4eb85225-f2e2-44f2-94a0-ed6410e396ff"
      },
      "execution_count": 45,
      "outputs": [
        {
          "output_type": "stream",
          "name": "stdout",
          "text": [
            "X_train size: 379\n",
            "X_test size: 127\n",
            "y_train size: 379\n",
            "y_test size: 127\n"
          ]
        }
      ]
    },
    {
      "cell_type": "code",
      "source": [
        "regressor = GradientBoostingRegressor(max_depth= 2,\n",
        "                                      n_estimators= 3,\n",
        "                                      learning_rate= .2)\n",
        "regressor.fit(X_train, y_train)"
      ],
      "metadata": {
        "colab": {
          "base_uri": "https://localhost:8080/"
        },
        "id": "pa-BJ1G1Gdv7",
        "outputId": "ebab3d4b-e757-4dd0-9aab-03d83af7335f"
      },
      "execution_count": 46,
      "outputs": [
        {
          "output_type": "execute_result",
          "data": {
            "text/plain": [
              "GradientBoostingRegressor(learning_rate=0.2, max_depth=2, n_estimators=3)"
            ]
          },
          "metadata": {},
          "execution_count": 46
        }
      ]
    },
    {
      "cell_type": "code",
      "source": [
        "#staged predict is used to find optimal trees for the input data\n",
        "errors = [mean_squared_error(y_test, y_pred) for y_pred in regressor.staged_predict(X_test)]\n",
        "best_n_estimators = np.argmin(errors)"
      ],
      "metadata": {
        "id": "IxFuXS3pDD19"
      },
      "execution_count": 47,
      "outputs": []
    },
    {
      "cell_type": "code",
      "source": [
        "best_n_estimators"
      ],
      "metadata": {
        "colab": {
          "base_uri": "https://localhost:8080/"
        },
        "id": "KS-Nf_-1Eb9G",
        "outputId": "3094e3ad-1e11-470a-814f-61ed70d17004"
      },
      "execution_count": 48,
      "outputs": [
        {
          "output_type": "execute_result",
          "data": {
            "text/plain": [
              "2"
            ]
          },
          "metadata": {},
          "execution_count": 48
        }
      ]
    },
    {
      "cell_type": "code",
      "source": [
        "#as we can see, the best number of trees is in fact 2\n",
        "best_regressor = GradientBoostingRegressor(max_depth= 2,\n",
        "                                      n_estimators= 3,\n",
        "                                      learning_rate= .2)\n",
        "best_regressor.fit(X_train, y_train)"
      ],
      "metadata": {
        "colab": {
          "base_uri": "https://localhost:8080/"
        },
        "id": "EnJf3yEFEnHY",
        "outputId": "9a5a90ce-74a5-4cd0-a131-0fce63655e6a"
      },
      "execution_count": 49,
      "outputs": [
        {
          "output_type": "execute_result",
          "data": {
            "text/plain": [
              "GradientBoostingRegressor(learning_rate=0.2, max_depth=2, n_estimators=3)"
            ]
          },
          "metadata": {},
          "execution_count": 49
        }
      ]
    },
    {
      "cell_type": "code",
      "source": [
        "y_pred = best_regressor.predict(X_test)\n",
        "print(y_pred)"
      ],
      "metadata": {
        "colab": {
          "base_uri": "https://localhost:8080/"
        },
        "id": "7Ue5CyAuFQIt",
        "outputId": "37df55b8-2152-4060-b5fb-a4a0c0f14d71"
      },
      "execution_count": 50,
      "outputs": [
        {
          "output_type": "stream",
          "name": "stdout",
          "text": [
            "[28.96030105 23.60052078 22.4112126  28.96030105 18.34375847 23.60052078\n",
            " 23.60052078 23.60052078 26.64916905 28.96030105 33.22545196 18.34375847\n",
            " 26.64916905 23.60052078 19.57132007 22.4112126  22.4112126  22.4112126\n",
            " 23.60052078 23.60052078 25.91165278 23.60052078 18.34375847 19.57132007\n",
            " 22.4112126  22.4112126  22.4112126  23.60052078 22.4112126  23.60052078\n",
            " 23.60052078 23.60052078 19.57132007 18.34375847 18.34375847 26.64916905\n",
            " 19.57132007 23.60052078 22.4112126  18.34375847 22.4112126  20.70144138\n",
            " 22.4112126  18.34375847 23.60052078 19.57132007 19.57132007 20.70144138\n",
            " 19.57132007 22.4112126  22.4112126  23.60052078 22.4112126  24.83658438\n",
            " 18.34375847 23.60052078 23.60052078 21.183651   19.57132007 33.22545196\n",
            " 22.4112126  19.57132007 25.45986086 19.57132007 22.4112126  19.57132007\n",
            " 23.60052078 18.34375847 23.60052078 19.57132007 19.57132007 18.34375847\n",
            " 23.60052078 22.4112126  23.60052078 18.34375847 23.60052078 22.4112126\n",
            " 26.64916905 28.96030105 27.14771638 22.4112126  18.34375847 22.4112126\n",
            " 23.60052078 19.57132007 24.23229926 20.70994337 23.60052078 20.70144138\n",
            " 23.60052078 23.60052078 20.70144138 18.34375847 22.4112126  30.91431996\n",
            " 18.34375847 18.34375847 25.45986086 18.34375847 18.34375847 23.60052078\n",
            " 22.4112126  22.4112126  20.70144138 19.57132007 22.4112126  26.64916905\n",
            " 33.22545196 22.4112126  22.4112126  22.4112126  19.57132007 22.4112126\n",
            " 19.57132007 23.60052078 23.60052078 20.70144138 19.47387978 26.64916905\n",
            " 22.4112126  23.60052078 23.60052078 23.60052078 23.60052078 22.4112126\n",
            " 23.60052078]\n"
          ]
        }
      ]
    },
    {
      "cell_type": "code",
      "source": [
        "mean_absolute_error(y_test, y_pred)"
      ],
      "metadata": {
        "colab": {
          "base_uri": "https://localhost:8080/"
        },
        "id": "ttPvmgR9FsJi",
        "outputId": "85b71ffa-f519-439a-8ede-9271d3acbe05"
      },
      "execution_count": 51,
      "outputs": [
        {
          "output_type": "execute_result",
          "data": {
            "text/plain": [
              "4.083576727010399"
            ]
          },
          "metadata": {},
          "execution_count": 51
        }
      ]
    }
  ]
}