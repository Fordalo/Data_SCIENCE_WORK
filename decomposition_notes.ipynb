{
  "nbformat": 4,
  "nbformat_minor": 0,
  "metadata": {
    "colab": {
      "name": "decomposition_notes.ipynb",
      "provenance": [],
      "authorship_tag": "ABX9TyMC+HUolTGe7o6vadxqKMfF",
      "include_colab_link": true
    },
    "kernelspec": {
      "name": "python3",
      "display_name": "Python 3"
    },
    "language_info": {
      "name": "python"
    }
  },
  "cells": [
    {
      "cell_type": "markdown",
      "metadata": {
        "id": "view-in-github",
        "colab_type": "text"
      },
      "source": [
        "<a href=\"https://colab.research.google.com/github/Fordalo/Data_SCIENCE_WORK/blob/main/decomposition_notes.ipynb\" target=\"_parent\"><img src=\"https://colab.research.google.com/assets/colab-badge.svg\" alt=\"Open In Colab\"/></a>"
      ]
    },
    {
      "cell_type": "markdown",
      "source": [
        "# Introduction to Eigenvectors\n",
        "In this demo, We will be discussing eigen decomposition and QR decomposition and why they are useful in data science practices. \n",
        "\n",
        "\n",
        "Lets start with eigen decomposition. \n",
        " \n",
        "*   matrix is singular if and only if one of the eigenvalues are zero.\n",
        "*   Under Specific conditions, they can optomize quadratic expressions\n",
        "\n",
        "\n",
        "          1.   largest eigen value = maximum of f(x)\n",
        "          2.   smallest = minimum of f(x)\n",
        "\n",
        "\n",
        "\n",
        "Here is the basic formula below:\n",
        "\n",
        "X = $V$$\\Lambda$ $V^{-1}$\n",
        "\n",
        "Where X represents our original matrix, V represents all of the eigenvectors together, Λ = a diagonal matrix with all of of the eigenvalues. Lets build a quick martix below in python and try to extract the eigen values and vectors\n"
      ],
      "metadata": {
        "id": "jP1bWbGsoN8F"
      }
    },
    {
      "cell_type": "code",
      "execution_count": 12,
      "metadata": {
        "colab": {
          "base_uri": "https://localhost:8080/"
        },
        "id": "NipgevV3oKc0",
        "outputId": "363cb6c6-86a9-4f9f-df40-e29535f73559"
      },
      "outputs": [
        {
          "output_type": "stream",
          "name": "stdout",
          "text": [
            "Eigenvalues: [12.27491722  4.72508278] \n",
            "Eigenvectors: \n",
            "[[ 0.86925207 -0.60422718]\n",
            " [ 0.49436913  0.79681209]]\n"
          ]
        }
      ],
      "source": [
        "import numpy as np\n",
        "import pandas as pd\n",
        "X = np.array([[10,4], [3,7]])\n",
        "\n",
        "lambda1, V = np.linalg.eig(X)\n",
        "\n",
        "print('Eigenvalues: {} \\nEigenvectors: \\n{}'.format(lambda1, V))\n"
      ]
    },
    {
      "cell_type": "markdown",
      "source": [
        "**12.27491722**   would be the first characteristic of X\n",
        "\n",
        "Lets see if we can satisfy our eigenvector equation \"X = $V$$\\Lambda$ $V^{-1}$\" with python"
      ],
      "metadata": {
        "id": "9H-Zwl4AVMr1"
      }
    },
    {
      "cell_type": "code",
      "source": [
        "vinvV = np.linalg.inv(V)\n",
        "Lambda = np.diag(lambda1)\n",
        "Xalt = V @ Lambda @ vinvV\n",
        "Xalt"
      ],
      "metadata": {
        "colab": {
          "base_uri": "https://localhost:8080/"
        },
        "id": "2R7qwlpVWN25",
        "outputId": "a8dd2191-a0d7-4cb8-ba87-29d56c5d151b"
      },
      "execution_count": 13,
      "outputs": [
        {
          "output_type": "execute_result",
          "data": {
            "text/plain": [
              "array([[10.,  4.],\n",
              "       [ 3.,  7.]])"
            ]
          },
          "metadata": {},
          "execution_count": 13
        }
      ]
    },
    {
      "cell_type": "markdown",
      "source": [
        "As you can see, we got back our original matrix above. Calculating the inverse of a matrix is always computationally expensive, so what if X was a symmetrical matrix? "
      ],
      "metadata": {
        "id": "D4ygMDzogNJ3"
      }
    }
  ]
}